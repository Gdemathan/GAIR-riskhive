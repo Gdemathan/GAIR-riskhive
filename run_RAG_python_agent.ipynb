{
 "cells": [
  {
   "cell_type": "code",
   "execution_count": 31,
   "metadata": {},
   "outputs": [],
   "source": [
    "from src.rag_python_agent import RagPythonAgent, RAG, GPT_tool_python_script, API_params,openai_client\n",
    "\n",
    "import pandas as pd"
   ]
  },
  {
   "cell_type": "code",
   "execution_count": 32,
   "metadata": {},
   "outputs": [
    {
     "name": "stdout",
     "output_type": "stream",
     "text": [
      "... File loaded ['Poisson Distribution\\nThe **Poisson distribution** models the probability of a given number of events occurring within a fixed interval of time or space, assuming these events occur with a constant mean rate and independently of the time since the last event.\\n\\n**Key Formula**  \\nIf X is a random variable following a Poisson distribution, then:  \\nP(X = k) = (?^k * e^(-?)) / k!  \\nwhere:  \\n- ? = the average number of events (mean of the distribution).  \\n- k = the number of events of interest (must be a non-negative integer).  \\n\\n**Key Properties**  \\n1. Mean: E[X] = ?  \\n2. Variance: Var(X) = ?  \\n\\n**Cumulative Probability**  \\nTo calculate P(X < k), sum the probabilities for all values of k less than the threshold:  \\nP(X < k) = ? (?^i * e^(-?)) / i! for i = 0 to k-1  \\n\\n**Steps to Solve Poisson Problems**  \\n1. Identify Parameters: Determine ? (mean number of events).  \\n2. Plug into the Formula:  \\n   - For exact probabilities (P(X = k)): Use the formula directly.  \\n   - For cumulative probabilities (P(X ? k) or P(X < k)): Sum the probabilities for the desired range.  \\n3. Use Tables or Calculators: To save time, use cumulative probability tables or statistical calculators for larger values of k.  ', 'Reliability Apportionment for Series Components\\n**Key Formula:**  \\nFor a series system: \\\\( R_{total} = R_1 \\\\cdot R_2 \\\\cdot R_3 \\\\cdot R_4 \\\\cdot R_5 \\\\)  \\nWhere \\\\( R_{total} \\\\) is the total system reliability and \\\\( R_i \\\\) are individual component reliabilities.\\n\\n**Steps to Solve:**  \\n1. Compute \\\\( R_{remaining} = R_{total} / (R_1 \\\\cdot R_2 \\\\cdot R_3 \\\\cdot R_4) \\\\).', 'Normal Distribution and \\\\( B_{10} \\\\) Life\\n**Key Concept:**  \\nThe \\\\( B_{10} \\\\) life represents the time at which 10% of items have failed.\\n\\n**Key Formula:**  \\n\\\\[ B_{10} = \\\\mu + Z_{0.1} \\\\cdot \\\\sigma \\\\]  \\nWhere:  \\n- \\\\( \\\\mu \\\\) = mean, \\\\( \\\\sigma \\\\) = standard deviation, \\\\( Z_{0.1} \\\\) = standard score for the 10th percentile.\\n\\n**Steps to Solve:**  \\n1. Calculate \\\\( \\\\sigma = \\\\sqrt{\\\\text{variance}} \\\\).  \\n2. Use python to compute \\\\( Z_{0.1} \\\\) (for 10th percentile in standard normal distribution).  \\n3. Plug values into the formula to find \\\\( B_{10} \\\\).', \"Reliability Engineering:\\n- Focuses on the performance and consistency of a product over time.\\n- Concerned with how well the product performs throughout its life cycle, especially under varying conditions.\\nMeasures:\\n- Failure rate over time: Probability of failure occurring at any point during the product's operational life.\\n- Product design: Involves designing products for durability and minimal failure under intended use.\", \"Consequences of Attributing Failure to Human Error\\nHuman Error Assumption in Failure Analysis:\\n\\nWhen management assumes that human error is the main cause of a failure, it often leads to surface-level solutions that don't address underlying systemic issues.\\nThis approach typically focuses on individual blame, without considering potential flaws in systems, processes, training, or design.\\nConsequences of Assuming Human Error as the Main Root Cause:\\nRepeat of the Same Failure:\\n\\nRoot cause not addressed: If human error is seen as the main cause, the systemic or procedural factors that contribute to the error may go unaddressed. This can result in the same failure occurring again.\\nReactive solutions: Focusing on individual mistakes may lead to ineffective solutions, which don't prevent the recurrence of the issue.\\nDisciplinary Action for the Employee:\\n\\nBlaming the individual: Management may respond to human error by punishing or reprimanding employees, rather than investigating broader organizational issues (e.g., inadequate training, unclear procedures).\\nDecreased morale: This approach can lead to low employee morale and a culture of fear rather than one focused on continuous improvement.\\nLess Productivity:\\n\\nFear of blame: When employees fear being blamed for errors, they may be less likely to take initiative or report issues, leading to reduced productivity.\\nStress and disengagement: A focus on punishment for errors can lead to stress and disengagement among employees, further decreasing overall productivity.\\nCultural Impact:\\n\\nLack of continuous improvement: Focusing on individual blame rather than addressing process or system flaws reduces the opportunity for learning and improvement.\\nBlame culture: Encourages a culture where employees are afraid to speak up, which stifles innovation and continuous improvement.\", '**Exponential Distribution**\\n\\nThe **Exponential distribution** models the time between events in a process where events occur continuously and independently at a constant average rate. It is often used to model the time between failures or arrival times in queuing systems.\\n\\n### **Key Formula**  \\nIf \\\\( X \\\\) is a random variable following an Exponential distribution, then:  \\n\\\\[\\nP(X = x) = \\\\lambda e^{-\\\\lambda x}\\n\\\\]\\nwhere:  \\n- \\\\( \\\\lambda \\\\) = the rate parameter (inverse of the mean, i.e., \\\\( \\\\lambda = \\\\frac{1}{\\\\mu} \\\\)).  \\n- \\\\( x \\\\) = the time between events (must be a non-negative value, \\\\( x \\\\geq 0 \\\\)).\\n\\n### **Key Properties**  \\n1. **Mean**:  \\n\\\\[\\nE[X] = \\\\frac{1}{\\\\lambda}\\n\\\\]  \\n2. **Variance**:  \\n\\\\[\\n\\\\text{Var}(X) = \\\\frac{1}{\\\\lambda^2}\\n\\\\]  \\n3. **Memoryless Property**: The probability of an event occurring in the next \\\\( t \\\\) time units is independent of how much time has already passed.  \\n   \\\\[\\n   P(X > t + s \\\\mid X > t) = P(X > s)\\n   \\\\]  \\n   This means the distribution \"forgets\" the past and has no memory of previous events.\\n\\n### **Cumulative Distribution Function (CDF)**  \\nTo calculate the probability that the event occurs before a certain time \\\\( x \\\\), use the CDF:  \\n\\\\[\\nP(X \\\\leq x) = 1 - e^{-\\\\lambda x}\\n\\\\]  \\nThis represents the probability that the time between events is less than or equal to \\\\( x \\\\).\\n\\n### **Survival Function**  \\nThe survival function represents the probability that the event occurs after time \\\\( x \\\\):  \\n\\\\[\\nP(X > x) = e^{-\\\\lambda x}\\n\\\\]\\n\\n### **Steps to Solve Exponential Distribution Problems**  \\n1. **Identify Parameters**: Determine \\\\( \\\\lambda \\\\), the rate parameter (often given or derived from the mean \\\\( \\\\mu \\\\)).  \\n   - \\\\( \\\\lambda = \\\\frac{1}{\\\\mu} \\\\), where \\\\( \\\\mu \\\\) is the mean time between events.  \\n2. **Calculate Probabilities**:  \\n   - For exact probabilities \\\\( P(X = x) \\\\): Use the probability density function (PDF) formula.  \\n   - For cumulative probabilities \\\\( P(X \\\\leq x) \\\\): Use the CDF formula.  \\n   - For survival probabilities \\\\( P(X > x) \\\\): Use the survival function formula.  \\n3. **Use Tables or Calculators**:  \\n   - For quick calculations, use statistical tables or calculators that provide the cumulative distribution function or survival function values.', 'Taguchi DOE Approach\\nThe **Taguchi Design of Experiments (DOE)** approach includes:  \\n1. Loss function concept.  \\n2. Variability reduction to meet target values.  \\n3. Continuous loss functions (not step functions).', 'Confidence Interval for Population Mean\\n**Key Formula:**  \\nFor a 95% confidence interval (CI):  \\n\\\\[ \\\\text{CI} = \\\\bar{x} \\\\pm Z_{0.025} \\\\cdot \\\\frac{s}{\\\\sqrt{n}} \\\\]  \\nWhere:  \\n- \\\\( \\\\bar{x} \\\\) = sample mean, \\\\( s \\\\) = sample standard deviation, \\\\( n \\\\) = sample size.\\n\\n**Steps to Solve:**  \\n1. Find \\\\( Z_{0.025} \\\\). Using python for example\\n2. Compute \\\\( \\\\frac{s}{\\\\sqrt{n}} \\\\).  \\n3. Add/subtract from \\\\( \\\\bar{x} \\\\).', \"Conditional Probabilities\\n\\n### **Understanding the Context**\\n\\nIn diagnostic problems (e.g., medical tests, quality control), we often deal with terms like:\\n- **True Positive (TP):** The test correctly identifies the presence of a condition (e.g., crack detected when a crack exists).\\n- **False Positive (FP):** The test incorrectly signals the presence of a condition (e.g., crack detected when there�s no crack).\\n- **True Negative (TN):** The test correctly identifies the absence of a condition (e.g., no crack detected when there�s no crack).\\n- **False Negative (FN):** The test fails to identify the presence of a condition (e.g., no crack detected when a crack exists).\\n\\nIn such scenarios:\\n1. **Sensitivity (True Positive Rate):** \\\\( P(B|A) \\\\), the probability the test signals a crack when a crack is present.\\n2. **False Positive Rate:** \\\\( P(B|\\\\neg A) \\\\), the probability the test signals a crack when no crack is present.\\n3. **Prevalence:** \\\\( P(A) \\\\), the proportion of cases where the condition (crack) exists in the population.\\n\\n---\\n\\n### **When to Use Each Method**\\n\\n#### **1. Conditional Probability**\\nUse this to calculate the probability of one event occurring given that another event has already occurred.  \\nFor instance, you might calculate:\\n\\\\[\\nP(\\\\text{crack present | test signals a crack}) = \\\\frac{P(\\\\text{test signals a crack AND crack present})}{P(\\\\text{test signals a crack})}\\n\\\\]\\nThis is useful for understanding how reliable a test is when it gives a positive result.\\n\\n---\\n\\n#### **2. Total Probability Rule**\\nUse this when you want to find the overall probability of an event (\\\\( P(B) \\\\)), accounting for all possible causes.  \\nIn the problem:\\n\\\\[\\nP(\\\\text{test signals a crack}) = P(\\\\text{test signals a crack | crack present}) \\\\cdot P(\\\\text{crack present}) + P(\\\\text{test signals a crack | no crack}) \\\\cdot P(\\\\text{no crack})\\n\\\\]\\nThis helps aggregate the probabilities of a signal coming from both true and false scenarios.\\n\\n---\\n\\n#### **3. Bayes' Theorem**\\nUse this to update the probability of an event based on new evidence.  \\nFor example, if a part signals a crack, Bayes� theorem helps calculate:\\n\\\\[\\nP(\\\\text{crack present | test signals a crack}) = \\\\frac{P(\\\\text{test signals a crack | crack present}) \\\\cdot P(\\\\text{crack present})}{P(\\\\text{test signals a crack})}\\n\\\\]\\nThis is especially important when the prior probability of the condition (\\\\( P(A) \\\\)) is low, as it adjusts for the rarity of the event and the accuracy of the test.\\n\\n---\\n\\n### **Application in the Problem**\\n1. Use the **Total Probability Rule** to find \\\\( P(B) \\\\), the probability that the test signals a crack (true or false).\\n2. Use **Bayes� Theorem** to find \\\\( P(A|B) \\\\), the probability that the part actually has a crack given a positive test result.\\n\\nThis process helps determine how reliable the test result is when it indicates a problem, balancing the high sensitivity against the false positive rate.\\n\\n---\\n\\n### Final Insight\\nThis framework is applicable in fields like medical diagnostics, fraud detection, and quality control, where tests or algorithms produce signals, and we need to evaluate their real-world implications. Use these methods whenever you encounter probabilities of detection, errors, or prior information that influence a decision.\\n\", \"## **Confidence Levels and Reliability**\\n\\n### **1. Key Definitions**\\n- **Reliability (\\\\( R \\\\)):** Probability that a system performs its function without failure over a specified time or conditions.\\n- **Confidence Level (\\\\( CL \\\\)):** Probability that the true reliability \\\\( R \\\\) of a system is at least the specified value, based on test results.\\n\\n### **2. Binomial Testing Basics**\\nReliability and confidence levels are often assessed using a binomial distribution in pass/fail tests:\\n- \\\\( n \\\\): Total number of tests performed.\\n- \\\\( x \\\\): Number of successful tests (no failures).\\n\\n---\\n\\n### **3. Reliability Test Formula**\\nFor a given reliability \\\\( R \\\\) and confidence level \\\\( CL \\\\), the inequality to check is:\\n\\\\[\\nCL \\\\geq 1 - (1 - R)^n\\n\\\\]\\n- Rearrange to compute \\\\( n \\\\), the minimum number of tests required for a given \\\\( R \\\\) and \\\\( CL \\\\):\\n\\\\[\\nn \\\\geq \\\\frac{\\\\log(1 - CL)}{\\\\log(1 - R)}\\n\\\\]\\n\\nAlternatively, rearrange to check whether the result meets the customer's requirements:\\n\\\\[\\nCL = 1 - (1 - R)^n\\n\\\\]\", '### **Burn-In Testing**\\n\\n### **1. What is Burn-In Testing?**\\n- **Definition:** A process where electronic assemblies or systems are operated under specified conditions (e.g., stress, elevated temperature) for a predetermined time before being placed in service.\\n- **Purpose:** To detect and eliminate early-life failures (also known as \"infant mortality failures\") that occur due to manufacturing defects or material flaws.\\n\\n---\\n\\n### **2. Key Objectives of Burn-In Testing**\\n- **Minimize Early Life Failures:** \\n  - Identify and remove weak units that would fail soon after deployment.\\n  - Ensures higher reliability for units that pass the test.\\n- **Do Not Extend Product Life:** \\n  - Burn-in testing does not change the intrinsic reliability of a properly functioning product.\\n- **Establish System Failure Rate:** \\n  - Useful for estimating the reliability parameters for a population of systems.\\n- **Prevent Catastrophic Failures in the Field:** \\n  - Focused on ensuring quality for high-stakes applications (e.g., aerospace, medical devices).\\n\\n---\\n\\n### **3. When to Use Burn-In Testing?**\\n- **Products with High Cost of Failure:** Electronics, critical systems, or high-reliability requirements.\\n- **New Product Lines:** To ensure manufacturing processes are reliable.\\n- **High Failure Variability:** If early-life failures are a significant proportion of total failures.\\n\\n---\\n\\n### **4. Key Benefits of Burn-In Testing**\\n- Improves reliability and customer satisfaction by removing early failures.\\n- Reduces warranty and repair costs.\\n- Provides data to refine manufacturing processes.', 'Reliability tests:\\n\\n1. The **Arrhenius** model is typically used for thermal stress and describes the effect of temperature on failure rates through an exponential relationship.  \\n2. The **Coffin-Manson** model is applied for fatigue failure under mechanical or thermal cycling, focusing on strain or stress cycles.  \\n3. The **Inverse Power Law** model relates failure rates to a single stressor, like voltage or pressure, often in an accelerated life testing scenario.  \\n4. The **Eyring** model, unlike the others, can incorporate multiple stress types (e.g., temperature and humidity) simultaneously, making it the exception.', '**Weibull Distribution**  \\nThe **Weibull distribution** is often used in reliability analysis to model the life data of products, particularly when the failure rate is not constant over time.\\n\\n**Key Formula**  \\nThe probability density function (PDF) for the Weibull distribution is:  \\n\\\\[\\nf(x; \\\\lambda, k) = \\\\frac{k}{\\\\lambda} \\\\left( \\\\frac{x}{\\\\lambda} \\\\right)^{k-1} e^{-(x/\\\\lambda)^k}\\n\\\\]  \\nwhere:  \\n- \\\\( \\\\lambda \\\\) = scale parameter (characteristic life).  \\n- \\\\( k \\\\) = shape parameter (controls the failure rate behavior).  \\n\\n**Key Properties**  \\n1. Mean: \\\\( E[X] = \\\\lambda \\\\Gamma \\\\left( 1 + \\\\frac{1}{k} \\\\right) \\\\), where \\\\( \\\\Gamma \\\\) is the Gamma function.  \\n2. Variance: \\\\( Var(X) = \\\\lambda^2 \\\\left( \\\\Gamma \\\\left( 1 + \\\\frac{2}{k} \\\\right) - \\\\left( \\\\Gamma \\\\left( 1 + \\\\frac{1}{k} \\\\right) \\\\right)^2 \\\\right) \\\\)\\n\\n**Common Use Cases**  \\n- **\\\\( k = 1 \\\\)**: Exponential distribution (constant failure rate).  \\n- **\\\\( k < 1 \\\\)**: Decreasing failure rate (early failures).  \\n- **\\\\( k > 1 \\\\)**: Increasing failure rate (wear-out failures).\\n\\nFor parametric estimation of the parameters, use Python to compute them.\\nUse python to compute number of defaults after a given period of time and the CDF of the law.', '**Normal Distribution**  \\nThe **Normal distribution** is widely used for modeling symmetrical data, particularly for failure times when the data is not heavily skewed.\\n\\n**Key Formula**  \\nThe probability density function (PDF) for the Normal distribution is:  \\n\\\\[\\nf(x; \\\\mu, \\\\sigma^2) = \\\\frac{1}{\\\\sigma \\\\sqrt{2\\\\pi}} e^{-\\\\frac{(x-\\\\mu)^2}{2\\\\sigma^2}}\\n\\\\]  \\nwhere:  \\n- \\\\( \\\\mu \\\\) = mean (expected value).  \\n- \\\\( \\\\sigma^2 \\\\) = variance.  \\n\\n**Key Properties**  \\n1. Mean: \\\\( E[X] = \\\\mu \\\\)  \\n2. Variance: \\\\( Var(X) = \\\\sigma^2 \\\\)\\n\\n**Common Use Cases**  \\n- When failure times are symmetrically distributed around a central value (i.e., product life or performance).', '**Log-Normal Distribution**  \\nThe **Log-Normal distribution** is often used in reliability engineering when the logarithm of the variable follows a normal distribution. This is useful when modeling life data with a positive skew.\\n\\n**Key Formula**  \\nThe probability density function (PDF) for the Log-Normal distribution is:  \\n\\\\[\\nf(x; \\\\mu, \\\\sigma^2) = \\\\frac{1}{x \\\\sigma \\\\sqrt{2\\\\pi}} e^{-\\\\frac{(\\\\ln x - \\\\mu)^2}{2 \\\\sigma^2}}\\n\\\\]  \\nwhere:  \\n- \\\\( \\\\mu \\\\) = mean of the logarithmic values.  \\n- \\\\( \\\\sigma^2 \\\\) = variance of the logarithmic values.\\n\\n**Key Properties**  \\n1. Mean: \\\\( E[X] = e^{\\\\mu + \\\\frac{\\\\sigma^2}{2}} \\\\)  \\n2. Variance: \\\\( Var(X) = e^{2\\\\mu + \\\\sigma^2} \\\\left( e^{\\\\sigma^2} - 1 \\\\right) \\\\)', '**Failure Rate (Hazard Function)**  \\nThe **failure rate**, or **hazard function**, is crucial in reliability engineering, as it represents the instantaneous rate of failure at a given time.\\n\\n**Formula**  \\nThe hazard function \\\\( h(t) \\\\) is defined as:  \\n\\\\[\\nh(t) = \\\\frac{f(t)}{S(t)}  \\n\\\\]  \\nwhere:  \\n- \\\\( f(t) \\\\) is the probability density function (PDF).  \\n- \\\\( S(t) \\\\) is the survival function: \\\\( S(t) = 1 - F(t) \\\\), where \\\\( F(t) \\\\) is the cumulative distribution function (CDF).\\n\\n**Interpretation**  \\n- **Constant hazard rate** implies exponential distribution.  \\n- **Increasing hazard rate** implies wear-out failure mode (e.g., Weibull with \\\\( k > 1 \\\\)).', '**Mean Time Between Failures (MTBF)**  \\n**MTBF** is an important reliability metric representing the average time between two consecutive failures in a system.\\n\\n**Formula**  \\n\\\\[\\nMTBF = \\\\frac{\\\\text{Total operating time}}{\\\\text{Number of failures}}\\n\\\\]', '**Reliability Function**  \\nThe **reliability function** \\\\( R(t) \\\\) gives the probability that the system will survive beyond a certain time \\\\( t \\\\).\\n\\n**Formula**  \\n\\\\[\\nR(t) = 1 - F(t)\\n\\\\]  \\nwhere \\\\( F(t) \\\\) is the cumulative distribution function (CDF).', '**Bath Tub Curve**  \\nThe **Bath Tub Curve** is a graphical representation of the failure rate over time, showing three distinct phases:\\n- **Infant mortality**: High failure rate at the start (early life failures).\\n- **Normal life**: Constant failure rate (random failures).\\n- **Wear-out**: Increasing failure rate at the end (late life failures).\\n\\nThis curve is often modeled using the **Weibull distribution** with \\\\( k < 1 \\\\) for early failures and \\\\( k > 1 \\\\) for wear-out failures.']\n"
     ]
    },
    {
     "name": "stderr",
     "output_type": "stream",
     "text": [
      "[INFO]: 2024-12-27 10:51:52 - HTTP Request: POST https://api.openai.com/v1/embeddings \"HTTP/1.1 200 OK\"\n",
      "[INFO]: 2024-12-27 10:51:52 - HTTP Request: POST https://api.openai.com/v1/embeddings \"HTTP/1.1 200 OK\"\n",
      "[INFO]: 2024-12-27 10:51:53 - HTTP Request: POST https://api.openai.com/v1/embeddings \"HTTP/1.1 200 OK\"\n",
      "[INFO]: 2024-12-27 10:51:53 - HTTP Request: POST https://api.openai.com/v1/embeddings \"HTTP/1.1 200 OK\"\n",
      "[INFO]: 2024-12-27 10:51:54 - HTTP Request: POST https://api.openai.com/v1/embeddings \"HTTP/1.1 200 OK\"\n",
      "[INFO]: 2024-12-27 10:51:54 - HTTP Request: POST https://api.openai.com/v1/embeddings \"HTTP/1.1 200 OK\"\n",
      "[INFO]: 2024-12-27 10:51:55 - HTTP Request: POST https://api.openai.com/v1/embeddings \"HTTP/1.1 200 OK\"\n",
      "[INFO]: 2024-12-27 10:51:55 - HTTP Request: POST https://api.openai.com/v1/embeddings \"HTTP/1.1 200 OK\"\n",
      "[INFO]: 2024-12-27 10:51:55 - HTTP Request: POST https://api.openai.com/v1/embeddings \"HTTP/1.1 200 OK\"\n",
      "[INFO]: 2024-12-27 10:51:56 - HTTP Request: POST https://api.openai.com/v1/embeddings \"HTTP/1.1 200 OK\"\n",
      "[INFO]: 2024-12-27 10:51:56 - HTTP Request: POST https://api.openai.com/v1/embeddings \"HTTP/1.1 200 OK\"\n",
      "[INFO]: 2024-12-27 10:51:57 - HTTP Request: POST https://api.openai.com/v1/embeddings \"HTTP/1.1 200 OK\"\n",
      "[INFO]: 2024-12-27 10:51:57 - HTTP Request: POST https://api.openai.com/v1/embeddings \"HTTP/1.1 200 OK\"\n",
      "[INFO]: 2024-12-27 10:51:58 - HTTP Request: POST https://api.openai.com/v1/embeddings \"HTTP/1.1 200 OK\"\n",
      "[INFO]: 2024-12-27 10:51:58 - HTTP Request: POST https://api.openai.com/v1/embeddings \"HTTP/1.1 200 OK\"\n",
      "[INFO]: 2024-12-27 10:51:58 - HTTP Request: POST https://api.openai.com/v1/embeddings \"HTTP/1.1 200 OK\"\n",
      "[INFO]: 2024-12-27 10:51:59 - HTTP Request: POST https://api.openai.com/v1/embeddings \"HTTP/1.1 200 OK\"\n",
      "[INFO]: 2024-12-27 10:51:59 - HTTP Request: POST https://api.openai.com/v1/embeddings \"HTTP/1.1 200 OK\"\n",
      "[INFO]: 2024-12-27 10:51:59 - HTTP Request: POST https://api.openai.com/v1/embeddings \"HTTP/1.1 200 OK\"\n",
      "[INFO]: 2024-12-27 10:52:00 - HTTP Request: POST https://api.openai.com/v1/embeddings \"HTTP/1.1 200 OK\"\n",
      "[INFO]: 2024-12-27 10:52:07 - HTTP Request: POST https://api.openai.com/v1/chat/completions \"HTTP/1.1 200 OK\"\n",
      "[INFO]: 2024-12-27 10:52:10 - HTTP Request: POST https://api.openai.com/v1/chat/completions \"HTTP/1.1 200 OK\"\n",
      "[INFO]: 2024-12-27 10:52:15 - HTTP Request: POST https://api.openai.com/v1/chat/completions \"HTTP/1.1 200 OK\"\n"
     ]
    },
    {
     "name": "stdout",
     "output_type": "stream",
     "text": [
      "... File saved generated/logs.json\n",
      "a\n"
     ]
    }
   ],
   "source": [
    "system_prompt = \"\"\"You are a Realiability Engineer. You are to answer to a Multiple Choice Question.\n",
    "For each question, there is only 1 possible answer.\n",
    "Each question is accompagned with some additionnal piece of knowledge you are able to use.\n",
    "\n",
    "Your answer should always have the following form:\n",
    "\n",
    "***Explanations:***\n",
    "Some explanations you give to answer the questions.\n",
    "You must explain all your reasoning steps. Including a definition of each specific reliability vocabulary in the question or the possible answers if relevant.\n",
    "You should never do any computations yourself in this part, you will be given a python sandbox to do that.\n",
    "\n",
    "\n",
    "\n",
    "***Next Step:***\n",
    "At this stage, you can only response with one of the following things:\n",
    "- the letter corresponding to the answer in the question. For example, you answer \"a\" if the answer is \"[a]\". Please only give the letter and nother other letter or font.\n",
    "- if you think that you need to perform computations, you will be able to ask. In this case, at this stage, please write \"I need python now\".\n",
    "\"\"\"\n",
    "\n",
    "question = \"\"\"[Question]: 1. Battery life has been measured as normally distributed with  mean equal to 150 hours and variance of 400 hours. Find the B10 life. \n",
    "\n",
    "[Choices]: [a] 124.4 hrs  | [b] 175.6 hrs\"\"\"\n",
    "\n",
    "rag = RAG('RAG.json')\n",
    "tools = GPT_tool_python_script\n",
    "api_params = API_params()\n",
    "agent = RagPythonAgent(system_prompt,question,rag,tools)\n",
    "answer = agent.run()\n",
    "print(answer)"
   ]
  },
  {
   "cell_type": "code",
   "execution_count": 38,
   "metadata": {},
   "outputs": [
    {
     "name": "stderr",
     "output_type": "stream",
     "text": [
      "[INFO]: 2024-12-27 10:57:33 - HTTP Request: POST https://api.openai.com/v1/embeddings \"HTTP/1.1 200 OK\"\n",
      "[INFO]: 2024-12-27 10:57:38 - HTTP Request: POST https://api.openai.com/v1/chat/completions \"HTTP/1.1 200 OK\"\n"
     ]
    },
    {
     "name": "stdout",
     "output_type": "stream",
     "text": [
      "... File saved generated/train/logs_question_1.json\n"
     ]
    },
    {
     "name": "stderr",
     "output_type": "stream",
     "text": [
      "[INFO]: 2024-12-27 10:57:38 - HTTP Request: POST https://api.openai.com/v1/embeddings \"HTTP/1.1 200 OK\"\n",
      "[INFO]: 2024-12-27 10:57:46 - HTTP Request: POST https://api.openai.com/v1/chat/completions \"HTTP/1.1 200 OK\"\n",
      "[INFO]: 2024-12-27 10:57:51 - HTTP Request: POST https://api.openai.com/v1/chat/completions \"HTTP/1.1 200 OK\"\n",
      "[INFO]: 2024-12-27 10:57:57 - HTTP Request: POST https://api.openai.com/v1/chat/completions \"HTTP/1.1 200 OK\"\n"
     ]
    },
    {
     "name": "stdout",
     "output_type": "stream",
     "text": [
      "... File saved generated/train/logs_question_2.json\n"
     ]
    },
    {
     "name": "stderr",
     "output_type": "stream",
     "text": [
      "[INFO]: 2024-12-27 10:57:57 - HTTP Request: POST https://api.openai.com/v1/embeddings \"HTTP/1.1 200 OK\"\n",
      "[INFO]: 2024-12-27 10:58:02 - HTTP Request: POST https://api.openai.com/v1/chat/completions \"HTTP/1.1 200 OK\"\n",
      "[INFO]: 2024-12-27 10:58:04 - HTTP Request: POST https://api.openai.com/v1/chat/completions \"HTTP/1.1 200 OK\"\n",
      "[INFO]: 2024-12-27 10:58:07 - HTTP Request: POST https://api.openai.com/v1/chat/completions \"HTTP/1.1 200 OK\"\n"
     ]
    },
    {
     "name": "stdout",
     "output_type": "stream",
     "text": [
      "... File saved generated/train/logs_question_3.json\n"
     ]
    },
    {
     "name": "stderr",
     "output_type": "stream",
     "text": [
      "[INFO]: 2024-12-27 10:58:07 - HTTP Request: POST https://api.openai.com/v1/embeddings \"HTTP/1.1 200 OK\"\n",
      "[INFO]: 2024-12-27 10:58:15 - HTTP Request: POST https://api.openai.com/v1/chat/completions \"HTTP/1.1 200 OK\"\n"
     ]
    },
    {
     "name": "stdout",
     "output_type": "stream",
     "text": [
      "... File saved generated/train/logs_question_4.json\n"
     ]
    },
    {
     "name": "stderr",
     "output_type": "stream",
     "text": [
      "[INFO]: 2024-12-27 10:58:15 - HTTP Request: POST https://api.openai.com/v1/embeddings \"HTTP/1.1 200 OK\"\n",
      "[INFO]: 2024-12-27 10:58:22 - HTTP Request: POST https://api.openai.com/v1/chat/completions \"HTTP/1.1 200 OK\"\n"
     ]
    },
    {
     "name": "stdout",
     "output_type": "stream",
     "text": [
      "... File saved generated/train/logs_question_5.json\n"
     ]
    },
    {
     "name": "stderr",
     "output_type": "stream",
     "text": [
      "[INFO]: 2024-12-27 10:58:22 - HTTP Request: POST https://api.openai.com/v1/embeddings \"HTTP/1.1 200 OK\"\n",
      "[INFO]: 2024-12-27 10:58:27 - HTTP Request: POST https://api.openai.com/v1/chat/completions \"HTTP/1.1 200 OK\"\n"
     ]
    },
    {
     "name": "stdout",
     "output_type": "stream",
     "text": [
      "... File saved generated/train/logs_question_6.json\n"
     ]
    },
    {
     "name": "stderr",
     "output_type": "stream",
     "text": [
      "[INFO]: 2024-12-27 10:58:27 - HTTP Request: POST https://api.openai.com/v1/embeddings \"HTTP/1.1 200 OK\"\n",
      "[INFO]: 2024-12-27 10:58:33 - HTTP Request: POST https://api.openai.com/v1/chat/completions \"HTTP/1.1 200 OK\"\n"
     ]
    },
    {
     "name": "stdout",
     "output_type": "stream",
     "text": [
      "... File saved generated/train/logs_question_7.json\n"
     ]
    },
    {
     "name": "stderr",
     "output_type": "stream",
     "text": [
      "[INFO]: 2024-12-27 10:58:33 - HTTP Request: POST https://api.openai.com/v1/embeddings \"HTTP/1.1 200 OK\"\n",
      "[INFO]: 2024-12-27 10:58:39 - HTTP Request: POST https://api.openai.com/v1/chat/completions \"HTTP/1.1 200 OK\"\n"
     ]
    },
    {
     "name": "stdout",
     "output_type": "stream",
     "text": [
      "... File saved generated/train/logs_question_8.json\n"
     ]
    },
    {
     "name": "stderr",
     "output_type": "stream",
     "text": [
      "[INFO]: 2024-12-27 10:58:40 - HTTP Request: POST https://api.openai.com/v1/embeddings \"HTTP/1.1 200 OK\"\n",
      "[INFO]: 2024-12-27 10:58:52 - HTTP Request: POST https://api.openai.com/v1/chat/completions \"HTTP/1.1 200 OK\"\n"
     ]
    },
    {
     "name": "stdout",
     "output_type": "stream",
     "text": [
      "... File saved generated/train/logs_question_9.json\n"
     ]
    },
    {
     "name": "stderr",
     "output_type": "stream",
     "text": [
      "[INFO]: 2024-12-27 10:58:52 - HTTP Request: POST https://api.openai.com/v1/embeddings \"HTTP/1.1 200 OK\"\n",
      "[INFO]: 2024-12-27 10:58:58 - HTTP Request: POST https://api.openai.com/v1/chat/completions \"HTTP/1.1 200 OK\"\n"
     ]
    },
    {
     "name": "stdout",
     "output_type": "stream",
     "text": [
      "... File saved generated/train/logs_question_10.json\n"
     ]
    },
    {
     "name": "stderr",
     "output_type": "stream",
     "text": [
      "[INFO]: 2024-12-27 10:58:58 - HTTP Request: POST https://api.openai.com/v1/embeddings \"HTTP/1.1 200 OK\"\n",
      "[INFO]: 2024-12-27 10:59:03 - HTTP Request: POST https://api.openai.com/v1/chat/completions \"HTTP/1.1 200 OK\"\n"
     ]
    },
    {
     "name": "stdout",
     "output_type": "stream",
     "text": [
      "... File saved generated/train/logs_question_11.json\n"
     ]
    },
    {
     "name": "stderr",
     "output_type": "stream",
     "text": [
      "[INFO]: 2024-12-27 10:59:03 - HTTP Request: POST https://api.openai.com/v1/embeddings \"HTTP/1.1 200 OK\"\n",
      "[INFO]: 2024-12-27 10:59:09 - HTTP Request: POST https://api.openai.com/v1/chat/completions \"HTTP/1.1 200 OK\"\n"
     ]
    },
    {
     "name": "stdout",
     "output_type": "stream",
     "text": [
      "... File saved generated/train/logs_question_12.json\n"
     ]
    },
    {
     "name": "stderr",
     "output_type": "stream",
     "text": [
      "[INFO]: 2024-12-27 10:59:10 - HTTP Request: POST https://api.openai.com/v1/embeddings \"HTTP/1.1 200 OK\"\n",
      "[INFO]: 2024-12-27 10:59:16 - HTTP Request: POST https://api.openai.com/v1/chat/completions \"HTTP/1.1 200 OK\"\n",
      "[INFO]: 2024-12-27 10:59:22 - HTTP Request: POST https://api.openai.com/v1/chat/completions \"HTTP/1.1 200 OK\"\n",
      "[INFO]: 2024-12-27 10:59:30 - HTTP Request: POST https://api.openai.com/v1/chat/completions \"HTTP/1.1 200 OK\"\n"
     ]
    },
    {
     "name": "stdout",
     "output_type": "stream",
     "text": [
      "... File saved generated/train/logs_question_13.json\n"
     ]
    },
    {
     "name": "stderr",
     "output_type": "stream",
     "text": [
      "[INFO]: 2024-12-27 10:59:30 - HTTP Request: POST https://api.openai.com/v1/embeddings \"HTTP/1.1 200 OK\"\n",
      "[INFO]: 2024-12-27 10:59:37 - HTTP Request: POST https://api.openai.com/v1/chat/completions \"HTTP/1.1 200 OK\"\n",
      "[INFO]: 2024-12-27 10:59:39 - HTTP Request: POST https://api.openai.com/v1/chat/completions \"HTTP/1.1 200 OK\"\n",
      "[INFO]: 2024-12-27 10:59:41 - HTTP Request: POST https://api.openai.com/v1/chat/completions \"HTTP/1.1 200 OK\"\n"
     ]
    },
    {
     "name": "stdout",
     "output_type": "stream",
     "text": [
      "... File saved generated/train/logs_question_14.json\n"
     ]
    },
    {
     "name": "stderr",
     "output_type": "stream",
     "text": [
      "[INFO]: 2024-12-27 10:59:42 - HTTP Request: POST https://api.openai.com/v1/embeddings \"HTTP/1.1 200 OK\"\n",
      "[INFO]: 2024-12-27 10:59:46 - HTTP Request: POST https://api.openai.com/v1/chat/completions \"HTTP/1.1 200 OK\"\n",
      "[INFO]: 2024-12-27 10:59:49 - HTTP Request: POST https://api.openai.com/v1/chat/completions \"HTTP/1.1 200 OK\"\n",
      "[INFO]: 2024-12-27 10:59:52 - HTTP Request: POST https://api.openai.com/v1/chat/completions \"HTTP/1.1 200 OK\"\n"
     ]
    },
    {
     "name": "stdout",
     "output_type": "stream",
     "text": [
      "... File saved generated/train/logs_question_15.json\n"
     ]
    },
    {
     "name": "stderr",
     "output_type": "stream",
     "text": [
      "[INFO]: 2024-12-27 10:59:52 - HTTP Request: POST https://api.openai.com/v1/embeddings \"HTTP/1.1 200 OK\"\n",
      "[INFO]: 2024-12-27 11:00:01 - HTTP Request: POST https://api.openai.com/v1/chat/completions \"HTTP/1.1 200 OK\"\n",
      "[INFO]: 2024-12-27 11:00:05 - HTTP Request: POST https://api.openai.com/v1/chat/completions \"HTTP/1.1 200 OK\"\n",
      "[INFO]: 2024-12-27 11:00:12 - HTTP Request: POST https://api.openai.com/v1/chat/completions \"HTTP/1.1 200 OK\"\n"
     ]
    },
    {
     "name": "stdout",
     "output_type": "stream",
     "text": [
      "... File saved generated/train/logs_question_16.json\n"
     ]
    },
    {
     "name": "stderr",
     "output_type": "stream",
     "text": [
      "[INFO]: 2024-12-27 11:00:12 - HTTP Request: POST https://api.openai.com/v1/embeddings \"HTTP/1.1 200 OK\"\n",
      "[INFO]: 2024-12-27 11:00:17 - HTTP Request: POST https://api.openai.com/v1/chat/completions \"HTTP/1.1 200 OK\"\n"
     ]
    },
    {
     "name": "stdout",
     "output_type": "stream",
     "text": [
      "... File saved generated/train/logs_question_17.json\n"
     ]
    },
    {
     "name": "stderr",
     "output_type": "stream",
     "text": [
      "[INFO]: 2024-12-27 11:00:18 - HTTP Request: POST https://api.openai.com/v1/embeddings \"HTTP/1.1 200 OK\"\n",
      "[INFO]: 2024-12-27 11:00:21 - HTTP Request: POST https://api.openai.com/v1/chat/completions \"HTTP/1.1 200 OK\"\n"
     ]
    },
    {
     "name": "stdout",
     "output_type": "stream",
     "text": [
      "... File saved generated/train/logs_question_18.json\n"
     ]
    },
    {
     "name": "stderr",
     "output_type": "stream",
     "text": [
      "[INFO]: 2024-12-27 11:00:21 - HTTP Request: POST https://api.openai.com/v1/embeddings \"HTTP/1.1 200 OK\"\n",
      "[INFO]: 2024-12-27 11:00:28 - HTTP Request: POST https://api.openai.com/v1/chat/completions \"HTTP/1.1 200 OK\"\n",
      "[INFO]: 2024-12-27 11:00:31 - HTTP Request: POST https://api.openai.com/v1/chat/completions \"HTTP/1.1 200 OK\"\n",
      "[INFO]: 2024-12-27 11:00:36 - HTTP Request: POST https://api.openai.com/v1/chat/completions \"HTTP/1.1 200 OK\"\n"
     ]
    },
    {
     "name": "stdout",
     "output_type": "stream",
     "text": [
      "... File saved generated/train/logs_question_19.json\n"
     ]
    },
    {
     "name": "stderr",
     "output_type": "stream",
     "text": [
      "[INFO]: 2024-12-27 11:00:37 - HTTP Request: POST https://api.openai.com/v1/embeddings \"HTTP/1.1 200 OK\"\n",
      "[INFO]: 2024-12-27 11:00:43 - HTTP Request: POST https://api.openai.com/v1/chat/completions \"HTTP/1.1 200 OK\"\n",
      "[INFO]: 2024-12-27 11:00:44 - HTTP Request: POST https://api.openai.com/v1/chat/completions \"HTTP/1.1 200 OK\"\n",
      "[INFO]: 2024-12-27 11:00:50 - HTTP Request: POST https://api.openai.com/v1/chat/completions \"HTTP/1.1 200 OK\"\n",
      "[INFO]: 2024-12-27 11:00:52 - HTTP Request: POST https://api.openai.com/v1/chat/completions \"HTTP/1.1 200 OK\"\n"
     ]
    },
    {
     "name": "stdout",
     "output_type": "stream",
     "text": [
      "... File saved generated/train/logs_question_20.json\n"
     ]
    },
    {
     "name": "stderr",
     "output_type": "stream",
     "text": [
      "[INFO]: 2024-12-27 11:00:52 - HTTP Request: POST https://api.openai.com/v1/embeddings \"HTTP/1.1 200 OK\"\n",
      "[INFO]: 2024-12-27 11:01:00 - HTTP Request: POST https://api.openai.com/v1/chat/completions \"HTTP/1.1 200 OK\"\n",
      "[INFO]: 2024-12-27 11:01:05 - HTTP Request: POST https://api.openai.com/v1/chat/completions \"HTTP/1.1 200 OK\"\n",
      "[INFO]: 2024-12-27 11:01:09 - HTTP Request: POST https://api.openai.com/v1/chat/completions \"HTTP/1.1 200 OK\"\n"
     ]
    },
    {
     "name": "stdout",
     "output_type": "stream",
     "text": [
      "... File saved generated/train/logs_question_21.json\n"
     ]
    },
    {
     "name": "stderr",
     "output_type": "stream",
     "text": [
      "[INFO]: 2024-12-27 11:01:10 - HTTP Request: POST https://api.openai.com/v1/embeddings \"HTTP/1.1 200 OK\"\n",
      "[INFO]: 2024-12-27 11:01:18 - HTTP Request: POST https://api.openai.com/v1/chat/completions \"HTTP/1.1 200 OK\"\n",
      "[INFO]: 2024-12-27 11:01:22 - HTTP Request: POST https://api.openai.com/v1/chat/completions \"HTTP/1.1 200 OK\"\n",
      "[INFO]: 2024-12-27 11:01:28 - HTTP Request: POST https://api.openai.com/v1/chat/completions \"HTTP/1.1 200 OK\"\n"
     ]
    },
    {
     "name": "stdout",
     "output_type": "stream",
     "text": [
      "... File saved generated/train/logs_question_22.json\n"
     ]
    },
    {
     "name": "stderr",
     "output_type": "stream",
     "text": [
      "[INFO]: 2024-12-27 11:01:28 - HTTP Request: POST https://api.openai.com/v1/embeddings \"HTTP/1.1 200 OK\"\n",
      "[INFO]: 2024-12-27 11:01:43 - HTTP Request: POST https://api.openai.com/v1/chat/completions \"HTTP/1.1 200 OK\"\n",
      "[INFO]: 2024-12-27 11:01:50 - HTTP Request: POST https://api.openai.com/v1/chat/completions \"HTTP/1.1 200 OK\"\n",
      "[INFO]: 2024-12-27 11:01:55 - HTTP Request: POST https://api.openai.com/v1/chat/completions \"HTTP/1.1 200 OK\"\n"
     ]
    },
    {
     "name": "stdout",
     "output_type": "stream",
     "text": [
      "... File saved generated/train/logs_question_23.json\n"
     ]
    },
    {
     "name": "stderr",
     "output_type": "stream",
     "text": [
      "[INFO]: 2024-12-27 11:01:55 - HTTP Request: POST https://api.openai.com/v1/embeddings \"HTTP/1.1 200 OK\"\n",
      "[INFO]: 2024-12-27 11:02:01 - HTTP Request: POST https://api.openai.com/v1/chat/completions \"HTTP/1.1 200 OK\"\n",
      "[INFO]: 2024-12-27 11:02:03 - HTTP Request: POST https://api.openai.com/v1/chat/completions \"HTTP/1.1 200 OK\"\n"
     ]
    },
    {
     "name": "stdout",
     "output_type": "stream",
     "text": [
      "... File saved generated/train/logs_question_24.json\n"
     ]
    },
    {
     "name": "stderr",
     "output_type": "stream",
     "text": [
      "[INFO]: 2024-12-27 11:02:03 - HTTP Request: POST https://api.openai.com/v1/embeddings \"HTTP/1.1 200 OK\"\n",
      "[INFO]: 2024-12-27 11:02:12 - HTTP Request: POST https://api.openai.com/v1/chat/completions \"HTTP/1.1 200 OK\"\n",
      "[INFO]: 2024-12-27 11:02:14 - HTTP Request: POST https://api.openai.com/v1/chat/completions \"HTTP/1.1 200 OK\"\n",
      "[INFO]: 2024-12-27 11:02:20 - HTTP Request: POST https://api.openai.com/v1/chat/completions \"HTTP/1.1 200 OK\"\n",
      "[INFO]: 2024-12-27 11:02:25 - HTTP Request: POST https://api.openai.com/v1/chat/completions \"HTTP/1.1 200 OK\"\n"
     ]
    },
    {
     "name": "stdout",
     "output_type": "stream",
     "text": [
      "... File saved generated/train/logs_question_25.json\n"
     ]
    },
    {
     "data": {
      "text/html": [
       "<div>\n",
       "<style scoped>\n",
       "    .dataframe tbody tr th:only-of-type {\n",
       "        vertical-align: middle;\n",
       "    }\n",
       "\n",
       "    .dataframe tbody tr th {\n",
       "        vertical-align: top;\n",
       "    }\n",
       "\n",
       "    .dataframe thead th {\n",
       "        text-align: right;\n",
       "    }\n",
       "</style>\n",
       "<table border=\"1\" class=\"dataframe\">\n",
       "  <thead>\n",
       "    <tr style=\"text-align: right;\">\n",
       "      <th></th>\n",
       "      <th>question_id</th>\n",
       "      <th>question</th>\n",
       "      <th>answer</th>\n",
       "      <th>engineer</th>\n",
       "      <th>right</th>\n",
       "    </tr>\n",
       "  </thead>\n",
       "  <tbody>\n",
       "    <tr>\n",
       "      <th>0</th>\n",
       "      <td>1</td>\n",
       "      <td>[Question]: 2. In general, reliability testing...</td>\n",
       "      <td>d</td>\n",
       "      <td>d</td>\n",
       "      <td>True</td>\n",
       "    </tr>\n",
       "    <tr>\n",
       "      <th>1</th>\n",
       "      <td>2</td>\n",
       "      <td>[Question]: 7. Five items were placed on test,...</td>\n",
       "      <td>c</td>\n",
       "      <td>d</td>\n",
       "      <td>False</td>\n",
       "    </tr>\n",
       "    <tr>\n",
       "      <th>2</th>\n",
       "      <td>3</td>\n",
       "      <td>[Question]: 10.  An engineer just ran 50 compr...</td>\n",
       "      <td>a</td>\n",
       "      <td>a</td>\n",
       "      <td>True</td>\n",
       "    </tr>\n",
       "    <tr>\n",
       "      <th>3</th>\n",
       "      <td>4</td>\n",
       "      <td>[Question]: 6. Humans will perform tasks more ...</td>\n",
       "      <td>a</td>\n",
       "      <td>d</td>\n",
       "      <td>False</td>\n",
       "    </tr>\n",
       "    <tr>\n",
       "      <th>4</th>\n",
       "      <td>5</td>\n",
       "      <td>[Question]: 7.  Brand X aircraft manufacturing...</td>\n",
       "      <td>a</td>\n",
       "      <td>a</td>\n",
       "      <td>True</td>\n",
       "    </tr>\n",
       "    <tr>\n",
       "      <th>5</th>\n",
       "      <td>6</td>\n",
       "      <td>[Question]: 1. Compared to quality, reliabilit...</td>\n",
       "      <td>d</td>\n",
       "      <td>d</td>\n",
       "      <td>True</td>\n",
       "    </tr>\n",
       "    <tr>\n",
       "      <th>6</th>\n",
       "      <td>7</td>\n",
       "      <td>[Question]: 7. What is the Best time for Relia...</td>\n",
       "      <td>b</td>\n",
       "      <td>b</td>\n",
       "      <td>True</td>\n",
       "    </tr>\n",
       "    <tr>\n",
       "      <th>7</th>\n",
       "      <td>8</td>\n",
       "      <td>[Question]: 6. The Product Development Maturit...</td>\n",
       "      <td>d</td>\n",
       "      <td>b</td>\n",
       "      <td>False</td>\n",
       "    </tr>\n",
       "    <tr>\n",
       "      <th>8</th>\n",
       "      <td>9</td>\n",
       "      <td>[Question]: 2. How should a Reliability Engine...</td>\n",
       "      <td>c</td>\n",
       "      <td>c</td>\n",
       "      <td>True</td>\n",
       "    </tr>\n",
       "    <tr>\n",
       "      <th>9</th>\n",
       "      <td>10</td>\n",
       "      <td>[Question]: 9.  In constructing programs for e...</td>\n",
       "      <td>d</td>\n",
       "      <td>c</td>\n",
       "      <td>False</td>\n",
       "    </tr>\n",
       "    <tr>\n",
       "      <th>10</th>\n",
       "      <td>11</td>\n",
       "      <td>[Question]: 1. Which of the following is NOT t...</td>\n",
       "      <td>d</td>\n",
       "      <td>d</td>\n",
       "      <td>True</td>\n",
       "    </tr>\n",
       "    <tr>\n",
       "      <th>11</th>\n",
       "      <td>12</td>\n",
       "      <td>[Question]: 7.  Which of the following choices...</td>\n",
       "      <td>d</td>\n",
       "      <td>b</td>\n",
       "      <td>False</td>\n",
       "    </tr>\n",
       "    <tr>\n",
       "      <th>12</th>\n",
       "      <td>13</td>\n",
       "      <td>[Question]: 3.  10 units have entered the fiel...</td>\n",
       "      <td>c</td>\n",
       "      <td>c</td>\n",
       "      <td>True</td>\n",
       "    </tr>\n",
       "    <tr>\n",
       "      <th>13</th>\n",
       "      <td>14</td>\n",
       "      <td>[Question]: 1. Use the exponential distributio...</td>\n",
       "      <td>b</td>\n",
       "      <td>b</td>\n",
       "      <td>True</td>\n",
       "    </tr>\n",
       "    <tr>\n",
       "      <th>14</th>\n",
       "      <td>15</td>\n",
       "      <td>[Question]: 6.  Suppose that six bad golf ball...</td>\n",
       "      <td>b</td>\n",
       "      <td>b</td>\n",
       "      <td>True</td>\n",
       "    </tr>\n",
       "    <tr>\n",
       "      <th>15</th>\n",
       "      <td>16</td>\n",
       "      <td>[Question]: 9.  A product has been produced fo...</td>\n",
       "      <td>a</td>\n",
       "      <td>b</td>\n",
       "      <td>False</td>\n",
       "    </tr>\n",
       "    <tr>\n",
       "      <th>16</th>\n",
       "      <td>17</td>\n",
       "      <td>[Question]: 1. The usual consequences of manag...</td>\n",
       "      <td>d</td>\n",
       "      <td>d</td>\n",
       "      <td>True</td>\n",
       "    </tr>\n",
       "    <tr>\n",
       "      <th>17</th>\n",
       "      <td>18</td>\n",
       "      <td>[Question]: 2. 锟斤拷Burn-in锟斤拷 testing is conduc...</td>\n",
       "      <td>d</td>\n",
       "      <td>d</td>\n",
       "      <td>True</td>\n",
       "    </tr>\n",
       "    <tr>\n",
       "      <th>18</th>\n",
       "      <td>19</td>\n",
       "      <td>[Question]: 9. A failure PDF for Lawn mower en...</td>\n",
       "      <td>b</td>\n",
       "      <td>a</td>\n",
       "      <td>False</td>\n",
       "    </tr>\n",
       "    <tr>\n",
       "      <th>19</th>\n",
       "      <td>20</td>\n",
       "      <td>[Question]: 4. Seventy-two bearings are availa...</td>\n",
       "      <td>c</td>\n",
       "      <td>d</td>\n",
       "      <td>False</td>\n",
       "    </tr>\n",
       "    <tr>\n",
       "      <th>20</th>\n",
       "      <td>21</td>\n",
       "      <td>[Question]: 3. You are asked to construct a Ze...</td>\n",
       "      <td>a</td>\n",
       "      <td>c</td>\n",
       "      <td>False</td>\n",
       "    </tr>\n",
       "    <tr>\n",
       "      <th>21</th>\n",
       "      <td>22</td>\n",
       "      <td>[Question]: 6.  A first prototype for a novel ...</td>\n",
       "      <td>a</td>\n",
       "      <td>a</td>\n",
       "      <td>True</td>\n",
       "    </tr>\n",
       "    <tr>\n",
       "      <th>22</th>\n",
       "      <td>23</td>\n",
       "      <td>[Question]: 5.  You are developing a new produ...</td>\n",
       "      <td>a</td>\n",
       "      <td>a</td>\n",
       "      <td>True</td>\n",
       "    </tr>\n",
       "    <tr>\n",
       "      <th>23</th>\n",
       "      <td>24</td>\n",
       "      <td>[Question]: 1. A system made up of 5 series co...</td>\n",
       "      <td>c</td>\n",
       "      <td>a</td>\n",
       "      <td>False</td>\n",
       "    </tr>\n",
       "    <tr>\n",
       "      <th>24</th>\n",
       "      <td>25</td>\n",
       "      <td>[Question]: 1. Battery life has been measured ...</td>\n",
       "      <td>a</td>\n",
       "      <td>a</td>\n",
       "      <td>True</td>\n",
       "    </tr>\n",
       "  </tbody>\n",
       "</table>\n",
       "</div>"
      ],
      "text/plain": [
       "    question_id                                           question answer  \\\n",
       "0             1  [Question]: 2. In general, reliability testing...      d   \n",
       "1             2  [Question]: 7. Five items were placed on test,...      c   \n",
       "2             3  [Question]: 10.  An engineer just ran 50 compr...      a   \n",
       "3             4  [Question]: 6. Humans will perform tasks more ...      a   \n",
       "4             5  [Question]: 7.  Brand X aircraft manufacturing...      a   \n",
       "5             6  [Question]: 1. Compared to quality, reliabilit...      d   \n",
       "6             7  [Question]: 7. What is the Best time for Relia...      b   \n",
       "7             8  [Question]: 6. The Product Development Maturit...      d   \n",
       "8             9  [Question]: 2. How should a Reliability Engine...      c   \n",
       "9            10  [Question]: 9.  In constructing programs for e...      d   \n",
       "10           11  [Question]: 1. Which of the following is NOT t...      d   \n",
       "11           12  [Question]: 7.  Which of the following choices...      d   \n",
       "12           13  [Question]: 3.  10 units have entered the fiel...      c   \n",
       "13           14  [Question]: 1. Use the exponential distributio...      b   \n",
       "14           15  [Question]: 6.  Suppose that six bad golf ball...      b   \n",
       "15           16  [Question]: 9.  A product has been produced fo...      a   \n",
       "16           17  [Question]: 1. The usual consequences of manag...      d   \n",
       "17           18  [Question]: 2. 锟斤拷Burn-in锟斤拷 testing is conduc...      d   \n",
       "18           19  [Question]: 9. A failure PDF for Lawn mower en...      b   \n",
       "19           20  [Question]: 4. Seventy-two bearings are availa...      c   \n",
       "20           21  [Question]: 3. You are asked to construct a Ze...      a   \n",
       "21           22  [Question]: 6.  A first prototype for a novel ...      a   \n",
       "22           23  [Question]: 5.  You are developing a new produ...      a   \n",
       "23           24  [Question]: 1. A system made up of 5 series co...      c   \n",
       "24           25  [Question]: 1. Battery life has been measured ...      a   \n",
       "\n",
       "   engineer  right  \n",
       "0         d   True  \n",
       "1         d  False  \n",
       "2         a   True  \n",
       "3         d  False  \n",
       "4         a   True  \n",
       "5         d   True  \n",
       "6         b   True  \n",
       "7         b  False  \n",
       "8         c   True  \n",
       "9         c  False  \n",
       "10        d   True  \n",
       "11        b  False  \n",
       "12        c   True  \n",
       "13        b   True  \n",
       "14        b   True  \n",
       "15        b  False  \n",
       "16        d   True  \n",
       "17        d   True  \n",
       "18        a  False  \n",
       "19        d  False  \n",
       "20        c  False  \n",
       "21        a   True  \n",
       "22        a   True  \n",
       "23        a  False  \n",
       "24        a   True  "
      ]
     },
     "metadata": {},
     "output_type": "display_data"
    },
    {
     "name": "stdout",
     "output_type": "stream",
     "text": [
      "Average score : 0.6\n"
     ]
    }
   ],
   "source": [
    "def get_answer(row):\n",
    "    id = row['question_id']\n",
    "    q = row['question']\n",
    "    agent = RagPythonAgent(system_prompt,q,rag,tools,logs_path=f'generated/train/logs_question_{id}.json')\n",
    "    return agent.run()\n",
    "\n",
    "questions = pd.read_csv(r'data\\train.csv')\n",
    "#questions = questions[:2]\n",
    "questions['engineer'] = questions.apply(lambda row:get_answer(row),axis=1)\n",
    "questions['right'] = questions['answer']==questions['engineer']\n",
    "\n",
    "display(questions)\n",
    "print(f'Average score : {questions[\"right\"].mean()}')\n"
   ]
  }
 ],
 "metadata": {
  "kernelspec": {
   "display_name": "base",
   "language": "python",
   "name": "python3"
  },
  "language_info": {
   "codemirror_mode": {
    "name": "ipython",
    "version": 3
   },
   "file_extension": ".py",
   "mimetype": "text/x-python",
   "name": "python",
   "nbconvert_exporter": "python",
   "pygments_lexer": "ipython3",
   "version": "3.9.18"
  }
 },
 "nbformat": 4,
 "nbformat_minor": 2
}
